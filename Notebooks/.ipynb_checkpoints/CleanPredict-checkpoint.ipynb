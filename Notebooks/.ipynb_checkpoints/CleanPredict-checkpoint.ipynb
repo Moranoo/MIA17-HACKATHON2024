{
 "cells": [
  {
   "cell_type": "code",
   "execution_count": null,
   "id": "5ee6364b-4f83-48e2-8051-bc6b8a89ce28",
   "metadata": {},
   "outputs": [],
   "source": [
    "import pandas as pd\n",
    "from sqlalchemy import create_engine\n",
    "import seaborn as sns\n",
    "import matplotlib.pyplot as plt\n",
    "from sklearn.model_selection import train_test_split\n",
    "from sklearn.ensemble import RandomForestRegressor\n",
    "from sklearn.metrics import mean_squared_error\n",
    "import numpy as np\n",
    "import os\n",
    "from dotenv import load_dotenv\n",
    "\n",
    "load_dotenv()  # charge les variables d'environnement à partir du fichier .env\n",
    "\n",
    "DB_USER = os.getenv(\"DB_USER\")\n",
    "DB_PASSWORD = os.getenv(\"DB_PASSWORD\")\n",
    "DB_HOST = os.getenv(\"DB_HOST\")\n",
    "DB_PORT = os.getenv(\"DB_PORT\")\n",
    "DB_NAME = os.getenv(\"DB_NAME\")\n",
    "\n",
    "connection_url = f'postgresql://{username}:{password}@{host}:{port}/{database}'\n",
    "\n",
    "engine = create_engine(connection_url)\n",
    "try:\n",
    "    connection = engine.connect()\n",
    "    print(\"Connection successful\")\n",
    "except Exception as e:\n",
    "    print(f\"Connection failed: {e}\")\n",
    "\n",
    "\n",
    "# Chargement des données\n",
    "athletes_df = pd.read_sql(\"SELECT * FROM olympic_athletes;\", con=engine)\n",
    "hosts_df = pd.read_sql(\"SELECT * FROM olympic_hosts;\", con=engine)\n",
    "medals_df = pd.read_sql(\"SELECT * FROM olympic_medals;\", con=engine)\n",
    "results_df = pd.read_sql(\"SELECT * FROM olympic_results;\", con=engine)\n",
    "\n",
    "# Affichage des premières lignes de chaque dataframe pour vérification\n",
    "print(\"Premières lignes de olympic_athletes :\\n\", athletes_df.head())\n",
    "print(\"Premières lignes de olympic_hosts :\\n\", hosts_df.head())\n",
    "print(\"Premières lignes de olympic_medals :\\n\", medals_df.head())\n",
    "print(\"Premières lignes de olympic_results :\\n\", results_df.head())\n"
   ]
  },
  {
   "cell_type": "code",
   "execution_count": null,
   "id": "f9b3b524-fad3-4b03-aa59-62aebe73c639",
   "metadata": {},
   "outputs": [],
   "source": [
    "country_renaming = {\n",
    "        'Soviet Union': 'Russia',\n",
    "        'Yugoslavia': 'Serbia',\n",
    "        'Russian Federation': 'Russia',\n",
    "        'German Democratic Republic (Germany)': 'Germany',\n",
    "        'Federal Republic of Germany': 'Germany',\n",
    "        'Czechoslovakia': 'Czech Republic',\n",
    "        'Unified Team': 'Russia',\n",
    "        'ROC': 'Russia',\n",
    "        'Olympic Athletes from Russia': 'Russia',\n",
    "        'United Arab Republic': 'Egypt',\n",
    "        'West Indies Federation': 'Jamaica',\n",
    "        'Bohemia': 'Czech Republic',\n",
    "        'Korea Team': 'Korea',\n",
    "        'Malaya': 'Malaysia',\n",
    "        'Côte d\\'Ivoire': 'Ivory Coast',\n",
    "        'Democratic Republic of Timor-Leste': 'East Timor',\n",
    "        'The Former Yugoslav Republic of Macedonia': 'North Macedonia' \n",
    "    }\n",
    "\n",
    "def final_clean_country_names(df):\n",
    "\n",
    "     # Nettoyage des anomalies \n",
    "    df['country_name'] = df['country_name'].replace(country_renaming)\n",
    "    df['country_name'] = df['country_name'].str.replace(r\".*https?://.*\", \"\", regex=True)\n",
    "    df['country_name'] = df['country_name'].str.strip()\n",
    "    df['country_name'] = df['country_name'].replace({\n",
    "        'None)]\"': np.nan, '10': np.nan, '25': np.nan, '17': np.nan, '14': np.nan, '5': np.nan, '3': np.nan, '11': np.nan, '1': np.nan, '16': np.nan, '': np.nan, \"Jr.'\": np.nan, \"CÃ´te d'Ivoire\": \"Ivory Coast\"\n",
    "    })\n",
    "\n",
    "    return df\n",
    "\n",
    "# Appliquer le nettoyage sur les DataFrames concernés\n",
    "medals_df = final_clean_country_names(medals_df)\n",
    "results_df = final_clean_country_names(results_df)\n",
    "\n",
    "results_df['country_name'] = results_df['country_name'].replace(country_renaming)\n",
    "medals_df['country_name'] = medals_df['country_name'].replace(country_renaming)"
   ]
  },
  {
   "cell_type": "code",
   "execution_count": null,
   "id": "77a8668a-7e09-4ba7-b117-7f6b58f752db",
   "metadata": {},
   "outputs": [],
   "source": [
    "print(\"\\nNoms de pays uniques dans olympic_results après le nettoyage :\")\n",
    "print(results_df['country_name'].dropna().unique())"
   ]
  },
  {
   "cell_type": "code",
   "execution_count": null,
   "id": "37dcb5a9-761a-461b-a1f8-55a84ed33d07",
   "metadata": {},
   "outputs": [],
   "source": [
    "results_df['game_year'] = results_df['slug_game'].str.extract(r'(\\d{4})').astype(int)\n",
    "results_df['game_year'].count()"
   ]
  },
  {
   "cell_type": "code",
   "execution_count": null,
   "id": "1c7b9f5f-022f-49aa-899d-4913096ccc94",
   "metadata": {},
   "outputs": [],
   "source": [
    "hosts_df.head().count()"
   ]
  },
  {
   "cell_type": "code",
   "execution_count": null,
   "id": "fc1e95db-10c0-4c34-8244-c7e05b5da46d",
   "metadata": {},
   "outputs": [],
   "source": [
    "summer_games = hosts_df[hosts_df['game_season'] == 'Summer']\n",
    "winter_games = hosts_df[hosts_df['game_season'] == 'Winter']"
   ]
  },
  {
   "cell_type": "code",
   "execution_count": null,
   "id": "d5219449-d2b9-4679-ba60-57b826402a0a",
   "metadata": {},
   "outputs": [],
   "source": [
    "print(\"\\nAperçu des données des JO d'hiver (Winter Games):\")\n",
    "print(winter_games.head())"
   ]
  },
  {
   "cell_type": "code",
   "execution_count": null,
   "id": "a16ca5e3-ea9d-4f1c-b71c-410bc0fe66e3",
   "metadata": {},
   "outputs": [],
   "source": [
    "print(\"\\nAperçu des données des JO d'été (Summer Games):\")\n",
    "print(summer_games.head())"
   ]
  },
  {
   "cell_type": "code",
   "execution_count": null,
   "id": "8f7767cf-9f24-4e0d-bfd9-ebb53d90b700",
   "metadata": {},
   "outputs": [],
   "source": [
    "results_df['game_year'] = results_df['slug_game'].str.extract(r'(\\d{4})').astype(int)\n",
    "\n",
    "# Vérifier les colonnes disponibles après extraction de l'année\n",
    "print(\"\\nColonnes disponibles dans results_df après extraction de l'année:\")\n",
    "print(results_df.columns)\n",
    "print(\"\\nPremières lignes de results_df après extraction de l'année:\")\n",
    "print(results_df.head())"
   ]
  },
  {
   "cell_type": "code",
   "execution_count": null,
   "id": "84f71c48",
   "metadata": {},
   "outputs": [],
   "source": [
    "# Calcul du cumul de chaque type de médailles par JO par pays\n",
    "medals_count = results_df.groupby(['country_name', 'game_year', 'medal_type']).size().unstack(fill_value=0).reset_index()\n",
    "medals_count['total_medals'] = medals_count[['GOLD', 'SILVER', 'BRONZE']].sum(axis=1)\n",
    "\n",
    "# Afficher un aperçu des cumul de médailles\n",
    "print(\"\\nAperçu du cumul de médailles par JO par pays:\")\n",
    "print(medals_count.head())\n"
   ]
  },
  {
   "cell_type": "code",
   "execution_count": null,
   "id": "83742b33-55e1-46f3-b672-2b0c5ea8e165",
   "metadata": {},
   "outputs": [],
   "source": [
    "sns.pairplot(results_df)\n",
    "plt.show()\n"
   ]
  },
  {
   "cell_type": "code",
   "execution_count": null,
   "id": "772c856b-7f5d-4e41-8bab-fe2c99eb8cbe",
   "metadata": {},
   "outputs": [],
   "source": [
    "# Calcul du nombre de disciplines et d'épreuves disputées par JO par pays\n",
    "disciplines_count = results_df.groupby(['country_name', 'game_year']).agg(\n",
    "    total_disciplines=pd.NamedAgg(column='discipline_title', aggfunc='nunique'),\n",
    "    total_events=pd.NamedAgg(column='event_title', aggfunc='nunique')\n",
    ").reset_index()\n",
    "\n",
    "# Afficher un aperçu des disciplines et épreuves\n",
    "print(\"\\nAperçu du nombre de disciplines et d'épreuves disputées par JO par pays:\")\n",
    "print(disciplines_count.head())\n"
   ]
  },
  {
   "cell_type": "code",
   "execution_count": null,
   "id": "456f0396-fa00-4621-9abd-562a423be9b3",
   "metadata": {},
   "outputs": [],
   "source": [
    "# Fusionner les datasets pour obtenir un dataset complet\n",
    "historic_olympic_data = medals_count.merge(disciplines_count, on=['country_name', 'game_year'], how='left')\n",
    "\n",
    "# Afficher un aperçu des données fusionnées\n",
    "print(\"\\nAperçu des données fusionnées (historic_olympic_data):\")\n",
    "print(historic_olympic_data.head())\n"
   ]
  },
  {
   "cell_type": "code",
   "execution_count": null,
   "id": "61d12b8d-5ba1-4b4d-af52-6b535df02421",
   "metadata": {},
   "outputs": [],
   "source": [
    "import plotly.express as px\n",
    "\n",
    "# Analyse story telling : classement des pays par JO en termes de total de médailles gagnées\n",
    "fig = px.bar(historic_olympic_data, \n",
    "             x=\"country_name\", \n",
    "             y=\"total_medals\", \n",
    "             animation_frame=\"game_year\", \n",
    "             hover_name=\"country_name\",\n",
    "             category_orders={\"game_year\": sorted(historic_olympic_data['game_year'].unique())})\n",
    "\n",
    "fig.update_layout(\n",
    "    title=\"Country ranked on Total medals since 1896\",\n",
    "    xaxis_title=\"Country\",\n",
    "    yaxis_title=\"Total medals\",\n",
    "    showlegend=False)\n",
    "\n",
    "fig.show()\n"
   ]
  },
  {
   "cell_type": "code",
   "execution_count": null,
   "id": "b8d21708-e3c0-47bd-be4a-672eaba50f65",
   "metadata": {},
   "outputs": [],
   "source": [
    "# Classement des 30 premiers pays par JO en termes de total de médailles gagnées\n",
    "top30_countries = historic_olympic_data.groupby('country_name')['total_medals'].sum().nlargest(30).index\n",
    "df_top30 = historic_olympic_data[historic_olympic_data['country_name'].isin(top30_countries)]\n",
    "\n",
    "fig_top30 = px.bar(df_top30, \n",
    "                   x=\"country_name\", \n",
    "                   y=\"total_medals\", \n",
    "                   animation_frame=\"game_year\", \n",
    "                   hover_name=\"country_name\",\n",
    "                   category_orders={\"game_year\": sorted(df_top30['game_year'].unique())})\n",
    "\n",
    "fig_top30.update_layout(\n",
    "    title=\"Top 30 countries on Total medals since 1896\",\n",
    "    xaxis_title=\"Country\",\n",
    "    yaxis_title=\"Total medals\",\n",
    "    showlegend=False)\n",
    "\n",
    "fig_top30.show()\n",
    "\n",
    "# Préparer les données nettoyées pour les sauvegarder dans la base de données\n",
    "historic_olympic_data.to_sql('cleaned_olympic_data', con=engine, if_exists='replace', index=False)\n",
    "print(\"Données nettoyées sauvegardées dans la base de données.\")"
   ]
  },
  {
   "cell_type": "code",
   "execution_count": null,
   "id": "fc29f06e-d222-46aa-857f-ea8a1fe91125",
   "metadata": {},
   "outputs": [],
   "source": []
  },
  {
   "cell_type": "code",
   "execution_count": null,
   "id": "1818a98a-b8dd-4dad-8704-ff91f54346be",
   "metadata": {},
   "outputs": [],
   "source": [
    "fig = px.scatter(historic_olympic_data, x='game_year', y='total_medals', color='country_name', \n",
    "                 size='total_events', hover_data=['total_disciplines'])\n",
    "fig.update_layout(title='Total Medals Over Years by Country', xaxis_title='Year', yaxis_title='Total Medals')\n",
    "fig.show()\n"
   ]
  },
  {
   "cell_type": "code",
   "execution_count": null,
   "id": "b6a76de3-8e25-4b4e-8a57-18a182153a0e",
   "metadata": {},
   "outputs": [],
   "source": [
    "# Lire les données sauvegardées dans la table 'cleaned_olympic_data'\n",
    "saved_data = pd.read_sql(\"SELECT * FROM cleaned_olympic_data;\", con=engine)\n",
    "\n",
    "# Afficher un aperçu des données sauvegardées\n",
    "print(\"\\nAperçu des données sauvegardées (cleaned_olympic_data):\")\n",
    "print(saved_data.head())\n"
   ]
  },
  {
   "cell_type": "code",
   "execution_count": null,
   "id": "29f7d6c2-a599-4792-ae43-8ac9115e8b99",
   "metadata": {},
   "outputs": [],
   "source": []
  },
  {
   "cell_type": "code",
   "execution_count": null,
   "id": "4fcca8dd-9234-4a94-9d27-cba3cc62973f",
   "metadata": {},
   "outputs": [],
   "source": []
  },
  {
   "cell_type": "code",
   "execution_count": null,
   "id": "444dfce1-ecb7-4125-a2fc-dcc1ad8e6f8c",
   "metadata": {},
   "outputs": [],
   "source": [
    "results_df.value_unit.unique()\n",
    "\n",
    "results_df = results_df.rename({'slug_game':'game_slug'},axis=1)\n",
    "results_df.columns"
   ]
  },
  {
   "cell_type": "code",
   "execution_count": null,
   "id": "ffb68c28-0386-45c9-a755-a35b6c979542",
   "metadata": {},
   "outputs": [],
   "source": [
    "def categorize_value_unit(value):\n",
    "    if pd.isna(value):\n",
    "        return 'NaN'\n",
    "    elif 'm' in value or 'cm' in value or 'km' in value:\n",
    "        return 'Distance'\n",
    "    elif 's' in value or 'min' in value or 'h' in value:\n",
    "        return 'Time'\n",
    "    elif 'pts' in value or 'points' in value:\n",
    "        return 'Points'\n",
    "    else:\n",
    "        return 'Other'\n",
    "\n",
    "# Appliquer la catégorisation sur 'value_unit'\n",
    "results_df['value_unit_category'] = results_df['value_unit'].apply(categorize_value_unit)\n",
    "\n",
    "valid_value_types = ['TIME', 'DISTANCE', 'POINTS', 'WEIGHT', 'RANK', 'SCORE', 'STROKES']\n",
    "results_df['value_type'] = results_df['value_type'].apply(lambda x: x if x in valid_value_types else 'Other')\n",
    "\n",
    "# Afficher les valeurs uniques dans les nouvelles colonnes\n",
    "print(\"\\nValeurs uniques dans 'value_unit_category':\")\n",
    "print(results_df['value_unit_category'].unique())"
   ]
  },
  {
   "cell_type": "code",
   "execution_count": null,
   "id": "ba7e7b62-e051-47c6-9a1f-24824db23002",
   "metadata": {},
   "outputs": [],
   "source": [
    "# Sélectionner les fonctionnalités pertinentes\n",
    "features = ['discipline_title', 'event_title', 'game_slug', 'participant_type', 'country_name', 'game_year', 'value_unit_category', 'value_type']\n",
    "X = results_df[features]"
   ]
  },
  {
   "cell_type": "code",
   "execution_count": null,
   "id": "a1e352eb-fc5e-4a9f-ac76-9933dd4527f3",
   "metadata": {},
   "outputs": [],
   "source": [
    "assert not historic_olympic_data.isnull().values.any(), \"Il y a des valeurs manquantes dans le dataset fusionné.\"\n",
    "assert all(col in results_df.columns for col in features), \"Certaines colonnes attendues sont manquantes dans results_df.\"\n"
   ]
  },
  {
   "cell_type": "code",
   "execution_count": null,
   "id": "4becd760-b3c2-49b4-bc67-74093d0d4a52",
   "metadata": {},
   "outputs": [],
   "source": [
    "fig = px.scatter(historic_olympic_data, x='game_year', y='total_medals', color='country_name', \n",
    "                 size='total_events', hover_data=['total_disciplines'])\n",
    "fig.update_layout(title='Total Medals Over Years by Country', xaxis_title='Year', yaxis_title='Total Medals')\n",
    "fig.show()\n"
   ]
  },
  {
   "cell_type": "code",
   "execution_count": null,
   "id": "972cfabd-0d6d-4989-9b2f-9e4abb664969",
   "metadata": {},
   "outputs": [],
   "source": [
    "# Sélectionner la cible\n",
    "y = results_df['medal_type']"
   ]
  },
  {
   "cell_type": "code",
   "execution_count": null,
   "id": "ba6f2607-272c-4b5a-8d3f-a23d2293d246",
   "metadata": {},
   "outputs": [],
   "source": [
    "# Gérer les valeurs manquantes dans `medal_type`\n",
    "results_df['medal_type'].fillna('NO_MEDAL', inplace=True)"
   ]
  },
  {
   "cell_type": "code",
   "execution_count": null,
   "id": "79832493-6efb-4c4a-92d7-90308c4a31f7",
   "metadata": {},
   "outputs": [],
   "source": [
    "# Gérer les valeurs manquantes dans 'value_unit_category'\n",
    "X.loc[:, 'value_unit_category'] = X['value_unit_category'].fillna('NaN')"
   ]
  },
  {
   "cell_type": "code",
   "execution_count": null,
   "id": "7587aa55-77fa-4e93-ab8f-e9be09fb13f6",
   "metadata": {},
   "outputs": [],
   "source": [
    "# print(\"Valeurs uniques de 'medal_type':\")\n",
    "# print(results_df['medal_type'].unique())\n",
    "\n",
    "# results_df['medal_type'].fillna('NO_MEDAL', inplace=True)"
   ]
  },
  {
   "cell_type": "code",
   "execution_count": null,
   "id": "89f3bf6a-1f98-4a00-9c5a-064595f6004a",
   "metadata": {},
   "outputs": [],
   "source": [
    "# Diviser les données en ensembles d'entraînement et de test\n",
    "X_train, X_test, y_train, y_test = train_test_split(X, y, test_size=0.2, random_state=42)\n"
   ]
  },
  {
   "cell_type": "code",
   "execution_count": null,
   "id": "179ddc74-c946-4d24-81a6-b489d1f7f222",
   "metadata": {},
   "outputs": [],
   "source": [
    "import pandas as pd\n",
    "from sqlalchemy import create_engine\n",
    "import numpy as np\n",
    "from sklearn.model_selection import train_test_split\n",
    "from sklearn.preprocessing import StandardScaler, OneHotEncoder\n",
    "from sklearn.compose import ColumnTransformer\n",
    "from sklearn.pipeline import Pipeline\n",
    "from sklearn.ensemble import RandomForestClassifier\n",
    "from sklearn.metrics import classification_report\n",
    "\n",
    "import warnings\n",
    "warnings.filterwarnings('ignore')\n",
    "\n",
    "# Pipeline de prétraitement\n",
    "preprocessor = ColumnTransformer(\n",
    "    transformers=[\n",
    "        ('num', StandardScaler(), ['game_year']),\n",
    "        ('cat', OneHotEncoder(handle_unknown='ignore'), ['discipline_title', 'event_title', 'game_slug', 'participant_type', 'country_name', 'value_unit_category', 'value_type'])\n",
    "    ])\n",
    "\n",
    "# Pipeline de modèle\n",
    "model = Pipeline(steps=[\n",
    "    ('preprocessor', preprocessor),\n",
    "    ('classifier', RandomForestClassifier(n_estimators=100, random_state=42))\n",
    "])\n",
    "\n",
    "# Entraîner le modèle\n",
    "model.fit(X_train, y_train)\n",
    "\n",
    "# Prédire sur les données de test\n",
    "y_pred = model.predict(X_test)\n",
    "\n",
    "# Évaluer le modèle\n",
    "print(\"\\nRapport de classification:\")\n",
    "print(classification_report(y_test, y_pred))\n",
    "\n",
    "# Exemple de prédiction\n",
    "example = X_test.iloc[0:1]  # Prendre un DataFrame au lieu d'une série\n",
    "print(\"\\nExemple de prédiction pour l'entrée suivante:\")\n",
    "print(example)\n",
    "print(\"Prédiction du modèle:\", model.predict(example))"
   ]
  },
  {
   "cell_type": "code",
   "execution_count": null,
   "id": "5bc16b66-b916-4379-9d33-aeb6542a7e9e",
   "metadata": {},
   "outputs": [],
   "source": []
  },
  {
   "cell_type": "code",
   "execution_count": null,
   "id": "d5011622-cbd9-4ff1-ac87-d0a437f82f7b",
   "metadata": {},
   "outputs": [],
   "source": [
    "# Graphiques\n",
    "# 1. Répartition des types de médailles\n",
    "plt.figure(figsize=(10, 6))\n",
    "sns.countplot(data=results_df, x='medal_type', order=results_df['medal_type'].value_counts().index)\n",
    "plt.title('Répartition des types de médailles')\n",
    "plt.xlabel('Type de médaille')\n",
    "plt.ylabel('Nombre')\n",
    "plt.show()\n"
   ]
  },
  {
   "cell_type": "code",
   "execution_count": null,
   "id": "9b0095f7-b8c2-49c0-935e-65f3e06a88d5",
   "metadata": {},
   "outputs": [],
   "source": [
    "results_df['medal_type'].fillna('NO_MEDAL', inplace=True)\n",
    "\n",
    "# Calcul du cumul de chaque type de médailles par JO par pays\n",
    "medals_count = results_df.groupby(['country_name', 'game_year', 'medal_type']).size().unstack(fill_value=0).reset_index()\n",
    "medals_count['total_medals'] = medals_count[['BRONZE', 'GOLD', 'SILVER', 'NO_MEDAL']].sum(axis=1)\n",
    "\n",
    "# Obtenir la liste de tous les pays triés par nombre total de médailles\n",
    "all_countries = results_df['country_name'].value_counts().index\n",
    "\n",
    "# Diviser la liste des pays en groupes de 30\n",
    "group_size = 30\n",
    "country_groups = [all_countries[i:i + group_size] for i in range(0, len(all_countries), group_size)]\n",
    "\n",
    "# Visualiser chaque groupe de pays\n",
    "for i, group in enumerate(country_groups):\n",
    "    group_medals_by_year_country = medals_count[medals_count['country_name'].isin(group)]\n",
    "    plt.figure(figsize=(14, 8))\n",
    "    sns.lineplot(data=group_medals_by_year_country, x='game_year', y='total_medals', hue='country_name')\n",
    "    plt.title(f\"Évolution du nombre total de médailles pour le groupe de pays {i+1}\")\n",
    "    plt.xlabel(\"Année des Jeux\")\n",
    "    plt.ylabel(\"Total des médailles\")\n",
    "    plt.legend(bbox_to_anchor=(1.05, 1), loc='upper left')\n",
    "    plt.show()\n"
   ]
  },
  {
   "cell_type": "code",
   "execution_count": null,
   "id": "3d46a9de-88f8-488d-858c-38a0b7bdc91a",
   "metadata": {},
   "outputs": [],
   "source": [
    "import pandas as pd\n",
    "import numpy as np\n",
    "import seaborn as sns\n",
    "import matplotlib.pyplot as plt\n",
    "\n",
    "# Obtenir les noms des fonctionnalités après transformation\n",
    "num_features = ['game_year']\n",
    "cat_features = ['discipline_title', 'event_title', 'game_slug', 'participant_type', 'country_name', 'value_unit_category', 'value_type']\n",
    "\n",
    "# Obtenir les noms des fonctionnalités après encodage\n",
    "encoded_cat_features = model.named_steps['preprocessor'].transformers_[1][1].get_feature_names_out(cat_features)\n",
    "all_features = np.concatenate([num_features, encoded_cat_features])\n",
    "\n",
    "# Extraire les importances des fonctionnalités du modèle de forêt aléatoire\n",
    "feature_importances = model.named_steps['classifier'].feature_importances_\n",
    "\n",
    "# Vérifier les longueurs\n",
    "print(f\"Longueur des feature_names: {len(all_features)}\")\n",
    "print(f\"Longueur des feature_importances: {len(feature_importances)}\")\n",
    "\n",
    "# Créer le DataFrame des importances des fonctionnalités\n",
    "importance_df = pd.DataFrame({'Feature': all_features, 'Importance': feature_importances})\n",
    "\n",
    "# Trier par importance et sélectionner les 20 plus importantes\n",
    "top_importances = importance_df.sort_values(by='Importance', ascending=False).head(20)\n",
    "\n",
    "# Visualiser les 20 importances des fonctionnalités les plus importantes\n",
    "plt.figure(figsize=(12, 10))\n",
    "sns.barplot(data=top_importances, x='Importance', y='Feature')\n",
    "plt.title('Top 20 caractéristiques importantes dans le modèle de forêt aléatoire')\n",
    "plt.xlabel('Importance')\n",
    "plt.ylabel('Caractéristique')\n",
    "plt.show()\n"
   ]
  },
  {
   "cell_type": "code",
   "execution_count": null,
   "id": "a9b07dd2-71f7-4c54-aef2-41d53af70dde",
   "metadata": {},
   "outputs": [],
   "source": [
    "# # Préparer les données nettoyées pour les sauvegarder dans la base de données\n",
    "# historic_olympic_data.to_sql('cleaned_olympic_data', con=engine, if_exists='replace', index=False)\n",
    "# print(\"Données nettoyées sauvegardées dans la base de données.\")"
   ]
  },
  {
   "cell_type": "code",
   "execution_count": null,
   "id": "a2a7c816-3dfa-4aa3-a9fc-78b3cfcf546e",
   "metadata": {},
   "outputs": [],
   "source": [
    "# Charger les colonnes spécifiées de la table olympic_athletes\n",
    "athletes_df = pd.read_sql(\"SELECT athlete_url, athlete_full_name, games_participations, first_game, athlete_medals FROM olympic_athletes;\", con=engine)\n",
    "\n",
    "# Afficher un aperçu des données chargées\n",
    "print(\"Aperçu des données chargées d'athletes_df :\")\n",
    "print(athletes_df.head())"
   ]
  },
  {
   "cell_type": "code",
   "execution_count": null,
   "id": "5d87cfa9-75fa-45fa-be7a-0321d6d1aca2",
   "metadata": {},
   "outputs": [],
   "source": [
    "# Remplacer les valeurs None dans 'athlete_medals' par 'NO_MEDAL'\n",
    "athletes_df['athlete_medals'].fillna('NO_MEDAL', inplace=True)\n",
    "\n",
    "# Afficher un aperçu des données après remplacement\n",
    "print(\"Aperçu des données après remplacement des None dans 'athlete_medals' :\")\n",
    "print(athletes_df.head())"
   ]
  },
  {
   "cell_type": "code",
   "execution_count": null,
   "id": "b67005ba-8f9e-47f9-98c4-438b03420dd7",
   "metadata": {},
   "outputs": [],
   "source": [
    "# Afficher un aperçu des premières lignes de results_df\n",
    "print(\"Aperçu de results_df:\")\n",
    "print(results_df.head())\n",
    "print(results_df.columns)\n",
    "\n",
    "# Afficher un aperçu des premières lignes de athletes_df\n",
    "print(\"Aperçu de athletes_df:\")\n",
    "print(athletes_df.head())\n",
    "print(athletes_df.columns)"
   ]
  },
  {
   "cell_type": "code",
   "execution_count": null,
   "id": "77addda9-3f62-43ef-bc3e-c3dc85b53042",
   "metadata": {},
   "outputs": [],
   "source": [
    "# Joindre les datasets results_df et athletes_df sur 'athlete_full_name'\n",
    "combined_df = pd.merge(results_df, athletes_df, how='left', on='athlete_full_name')\n",
    "\n",
    "# Afficher un aperçu des données combinées\n",
    "print(\"Aperçu des données combinées (combined_df) :\")\n",
    "print(combined_df.head())"
   ]
  },
  {
   "cell_type": "code",
   "execution_count": null,
   "id": "907a088f-3df2-41e6-990b-fec0786a892f",
   "metadata": {},
   "outputs": [],
   "source": [
    "# Sélectionner les fonctionnalités pertinentes\n",
    "features = ['discipline_title', 'event_title', 'game_slug', 'participant_type', 'country_name', \n",
    "            'game_year', 'value_unit_category', 'value_type', 'athlete_medals', \n",
    "            'games_participations', 'first_game']\n",
    "\n",
    "X = combined_df[features]\n",
    "\n",
    "# Sélectionner la cible\n",
    "y = combined_df['medal_type']\n"
   ]
  },
  {
   "cell_type": "code",
   "execution_count": null,
   "id": "a1b9ecd3-bf64-40fd-866d-44842e40e3e4",
   "metadata": {},
   "outputs": [],
   "source": [
    "# Afficher le nombre de valeurs manquantes par colonne\n",
    "missing_values = combined_df.isnull().sum()\n",
    "print(\"Nombre de valeurs manquantes par colonne:\\n\", missing_values)\n"
   ]
  },
  {
   "cell_type": "code",
   "execution_count": null,
   "id": "e4b0fd21-9c25-4958-891a-5abcba2ac7f0",
   "metadata": {
    "scrolled": true
   },
   "outputs": [],
   "source": [
    "# Afficher les premières lignes des colonnes avec des valeurs manquantes\n",
    "columns_with_na = combined_df.columns[combined_df.isnull().any()].tolist()\n",
    "print(\"\\nAperçu des colonnes avec des valeurs manquantes:\")\n",
    "for column in columns_with_na:\n",
    "    print(f\"\\n{column} - Nombre de valeurs manquantes: {combined_df[column].isnull().sum()}\")\n",
    "    print(combined_df[column].unique())\n"
   ]
  },
  {
   "cell_type": "code",
   "execution_count": null,
   "id": "6c7f1961-06ba-4b50-a13d-2cfd4829973d",
   "metadata": {},
   "outputs": [],
   "source": [
    "print(\"Valeurs uniques de 'athlete_medals':\")\n",
    "print(combined_df['athlete_medals'].unique())"
   ]
  },
  {
   "cell_type": "code",
   "execution_count": null,
   "id": "48db16d5-2c04-4abf-9745-cc3ed5f6837d",
   "metadata": {},
   "outputs": [],
   "source": [
    "# Remplir les valeurs manquantes\n",
    "combined_df['country_name'].fillna('Unknown', inplace=True)\n",
    "combined_df['games_participations'].fillna(combined_df['games_participations'].median(), inplace=True)\n",
    "combined_df['first_game'].fillna('Unknown', inplace=True)\n",
    "combined_df['athlete_medals'].fillna('NO_MEDAL', inplace=True)"
   ]
  },
  {
   "cell_type": "code",
   "execution_count": null,
   "id": "980149fa-e3f3-4da5-8877-65c4ecaa2bcf",
   "metadata": {},
   "outputs": [],
   "source": [
    "# Traitement des valeurs dans 'athlete_medals'\n",
    "def process_medals(medals):\n",
    "    if medals == 'NO_MEDAL':\n",
    "        return 0, 0, 0\n",
    "    gold_medals = 0\n",
    "    silver_medals = 0\n",
    "    bronze_medals = 0\n",
    "    i = 0\n",
    "    while i < len(medals):\n",
    "        if medals[i].isdigit():\n",
    "            num_medals = int(medals[i])\n",
    "            i += 1\n",
    "            if i < len(medals) and medals[i] == 'G':\n",
    "                gold_medals += num_medals\n",
    "            elif i < len(medals) and medals[i] == 'S':\n",
    "                silver_medals += num_medals\n",
    "            elif i < len(medals) and medals[i] == 'B':\n",
    "                bronze_medals += num_medals\n",
    "            i += 1\n",
    "        else:\n",
    "            i += 1\n",
    "    return gold_medals, silver_medals, bronze_medals\n",
    "\n",
    "combined_df['gold_medals'], combined_df['silver_medals'], combined_df['bronze_medals'] = zip(*combined_df['athlete_medals'].apply(process_medals))\n",
    "combined_df = combined_df.drop(columns='athlete_medals')\n",
    "\n",
    "# Ajouter une colonne pour le nombre total de médailles remportées par chaque athlète\n",
    "combined_df['total_medals'] = combined_df['gold_medals'] + combined_df['silver_medals'] + combined_df['bronze_medals']\n",
    "\n",
    "# Afficher un aperçu des données après traitement des médailles\n",
    "print(combined_df[['athlete_full_name', 'gold_medals', 'silver_medals', 'bronze_medals', 'total_medals']].head())\n"
   ]
  },
  {
   "cell_type": "code",
   "execution_count": null,
   "id": "1c5b5c89-caa0-4e36-be98-5aa904f61073",
   "metadata": {},
   "outputs": [],
   "source": [
    "# Trier le DataFrame par nombre total de médailles en ordre décroissant\n",
    "top_athletes = combined_df.sort_values('total_medals', ascending=False)\n",
    "\n",
    "# Afficher les 10 premiers athlètes ayant remporté le plus de médailles\n",
    "print(top_athletes[['athlete_full_name', 'gold_medals', 'silver_medals', 'bronze_medals', 'total_medals']].head(10))\n"
   ]
  },
  {
   "cell_type": "code",
   "execution_count": null,
   "id": "9c907d5e-d00b-473b-84f8-ff8c383b416f",
   "metadata": {},
   "outputs": [],
   "source": [
    "print(top_athletes['athlete_full_name'].tolist())\n"
   ]
  },
  {
   "cell_type": "code",
   "execution_count": null,
   "id": "8e63069a-8693-4f08-95df-92764d94d562",
   "metadata": {
    "scrolled": true
   },
   "outputs": [],
   "source": [
    "top_athletes_sorted = top_athletes[top_athletes['total_medals'] > 0].sort_values('total_medals', ascending=False)\n",
    "print(top_athletes_sorted[['athlete_full_name', 'gold_medals', 'silver_medals', 'bronze_medals']].head(10))\n"
   ]
  },
  {
   "cell_type": "code",
   "execution_count": null,
   "id": "a8ff6635-22e4-4f72-8f1e-74357da8f37b",
   "metadata": {},
   "outputs": [],
   "source": [
    "print(\"Nombre de lignes dans top_athletes :\", len(top_athletes))\n"
   ]
  },
  {
   "cell_type": "code",
   "execution_count": null,
   "id": "f6b950f7-8b5c-4e02-a15b-f25f7132ecbc",
   "metadata": {},
   "outputs": [],
   "source": [
    "print(\"Nombre d'athlètes ayant remporté au moins une médaille :\", len(top_athletes[top_athletes['total_medals'] > 0]))\n"
   ]
  },
  {
   "cell_type": "code",
   "execution_count": null,
   "id": "d93386fc-3f24-489c-a6f4-789d3bc18cf3",
   "metadata": {},
   "outputs": [],
   "source": [
    "# Visualiser la distribution des médailles parmi les athlètes\n",
    "plt.figure(figsize=(10, 6))\n",
    "sns.barplot(data=top_athletes.head(10), x='total_medals', y='athlete_full_name', hue='gold_medals', dodge=False)\n",
    "plt.title('Top 10 Athletes by Total Medals')\n",
    "plt.xlabel('Total Medals')\n",
    "plt.ylabel('Athlete')\n",
    "plt.show()\n",
    "\n",
    "# Vérifier les résultats\n",
    "print(\"Nombre de lignes dans top_athletes :\", len(top_athletes))"
   ]
  },
  {
   "cell_type": "code",
   "execution_count": null,
   "id": "40370d6e-6d90-4b60-b752-493fd593497d",
   "metadata": {},
   "outputs": [],
   "source": [
    "# Séparer les données de 2020 des autres années\n",
    "data_2020 = combined_df[combined_df['game_year'] == 2020]\n",
    "data_other_years = combined_df[combined_df['game_year'] != 2020]\n",
    "\n",
    "# Afficher un aperçu des données de 2020\n",
    "print(\"Aperçu des données de 2020:\")\n",
    "print(data_2020.head())\n",
    "\n",
    "# Afficher un aperçu des données des autres années\n",
    "print(\"Aperçu des données des autres années:\")\n",
    "print(data_other_years.head())\n"
   ]
  },
  {
   "cell_type": "code",
   "execution_count": null,
   "id": "a861be80-29a0-4a9f-8a97-94301207dad5",
   "metadata": {},
   "outputs": [],
   "source": [
    "# Sélectionner les fonctionnalités pertinentes pour l'entraînement du modèle\n",
    "features = ['discipline_title', 'event_title', 'game_slug', 'participant_type', 'country_name', \n",
    "            'game_year', 'value_unit_category', 'value_type', 'gold_medals', 'silver_medals', 'bronze_medals', \n",
    "            'games_participations', 'first_game']\n",
    "\n",
    "X_train = data_other_years[features]\n",
    "y_train = data_other_years['medal_type']\n",
    "\n",
    "# Gérer les valeurs manquantes dans les fonctionnalités\n",
    "X_train['value_unit_category'].fillna('NaN', inplace=True)\n",
    "X_train['first_game'].fillna('Unknown', inplace=True)\n",
    "\n",
    "# Pipeline de prétraitement\n",
    "preprocessor = ColumnTransformer(\n",
    "    transformers=[\n",
    "        ('num', StandardScaler(), ['game_year', 'games_participations', 'gold_medals', 'silver_medals', 'bronze_medals']),\n",
    "        ('cat', OneHotEncoder(handle_unknown='ignore'), ['discipline_title', 'event_title', 'game_slug', \n",
    "                                                         'participant_type', 'country_name', 'value_unit_category', \n",
    "                                                         'value_type', 'first_game'])\n",
    "    ])\n",
    "\n",
    "# Pipeline de modèle\n",
    "model = Pipeline(steps=[\n",
    "    ('preprocessor', preprocessor),\n",
    "    ('classifier', RandomForestClassifier(n_estimators=100, random_state=42))\n",
    "])\n",
    "\n",
    "# Entraîner le modèle sur les données des années précédentes\n",
    "model.fit(X_train, y_train)\n"
   ]
  },
  {
   "cell_type": "code",
   "execution_count": null,
   "id": "506858e3-ad91-465c-b26e-24d9ee4bcce9",
   "metadata": {},
   "outputs": [],
   "source": [
    "# Préparer les données de 2020 pour la prédiction\n",
    "X_2020 = data_2020[features]\n",
    "\n",
    "# Gérer les valeurs manquantes dans les fonctionnalités\n",
    "X_2020['value_unit_category'].fillna('NaN', inplace=True)\n",
    "X_2020['first_game'].fillna('Unknown', inplace=True)\n",
    "\n",
    "# Faire des prédictions sur les données de 2020\n",
    "y_pred_2020 = model.predict(X_2020)\n",
    "\n",
    "# Ajouter les prédictions au DataFrame de 2020\n",
    "data_2020['predicted_medal_type'] = y_pred_2020\n",
    "\n",
    "# Afficher un aperçu des prédictions de 2020\n",
    "print(\"Aperçu des prédictions pour 2020:\")\n",
    "print(data_2020[['athlete_full_name', 'predicted_medal_type']].head())\n"
   ]
  },
  {
   "cell_type": "code",
   "execution_count": null,
   "id": "bd50dda2-c71d-469a-9de7-c9f39fe13ee0",
   "metadata": {},
   "outputs": [],
   "source": [
    "# Comparer les prédictions aux résultats réels\n",
    "comparison = data_2020[['athlete_full_name', 'medal_type', 'predicted_medal_type']]\n",
    "\n",
    "# Calculer la précision des prédictions\n",
    "accuracy = (comparison['medal_type'] == comparison['predicted_medal_type']).mean()\n",
    "print(f\"Précision des prédictions pour 2020: {accuracy:.2f}\")\n",
    "\n",
    "# Afficher les prédictions incorrectes\n",
    "incorrect_predictions = comparison[comparison['medal_type'] != comparison['predicted_medal_type']]\n",
    "print(\"Prédictions incorrectes:\")\n",
    "print(incorrect_predictions.head())\n"
   ]
  },
  {
   "cell_type": "code",
   "execution_count": null,
   "id": "5da0ffcd-88b8-4f4a-aa8b-89247b561877",
   "metadata": {},
   "outputs": [],
   "source": [
    "# Charger les données de la table olympic_athletes\n",
    "athletes_df = pd.read_sql(\"SELECT athlete_url, athlete_full_name, games_participations, first_game, athlete_medals FROM olympic_athletes;\", con=engine)\n",
    "\n",
    "# Remplacer les valeurs None dans 'athlete_medals' par 'NO_MEDAL'\n",
    "athletes_df['athlete_medals'].fillna('NO_MEDAL', inplace=True)\n",
    "\n",
    "# Joindre les datasets results_df et athletes_df sur 'athlete_full_name'\n",
    "combined_df = pd.merge(results_df, athletes_df, how='left', on='athlete_full_name')\n",
    "\n",
    "# Exclure les colonnes non pertinentes\n",
    "non_pertinent_columns = ['rank_equal', 'rank_position', 'country_code', 'country_3_letter_code', 'athletes', 'athlete_url_x', 'athlete_url_y', 'value_unit']\n",
    "combined_df.drop(columns=[col for col in non_pertinent_columns if col in combined_df.columns], inplace=True)\n",
    "\n",
    "# Remplir les valeurs manquantes\n",
    "combined_df['country_name'].fillna('Unknown', inplace=True)\n",
    "combined_df['games_participations'].fillna(combined_df['games_participations'].median(), inplace=True)\n",
    "combined_df['first_game'].fillna('Unknown', inplace=True)\n",
    "combined_df['athlete_medals'].fillna('NO_MEDAL', inplace=True)\n",
    "\n",
    "# Afficher les valeurs uniques dans 'athlete_medals' si la colonne existe\n",
    "if 'athlete_medals' in combined_df.columns:\n",
    "    print(\"Valeurs uniques de 'athlete_medals':\")\n",
    "    print(combined_df['athlete_medals'].unique())\n",
    "\n",
    "    # Traitement des valeurs dans 'athlete_medals'\n",
    "    def process_medals(medals):\n",
    "        if medals == 'NO_MEDAL':\n",
    "            return 0, 0, 0\n",
    "        gold_medals = 0\n",
    "        silver_medals = 0\n",
    "        bronze_medals = 0\n",
    "        i = 0\n",
    "        while i < len(medals):\n",
    "            if medals[i].isdigit():\n",
    "                num_medals = int(medals[i])\n",
    "                i += 1\n",
    "                if i < len(medals) and medals[i] == 'G':\n",
    "                    gold_medals += num_medals\n",
    "                elif i < len(medals) and medals[i] == 'S':\n",
    "                    silver_medals += num_medals\n",
    "                elif i < len(medals) and medals[i] == 'B':\n",
    "                    bronze_medals += num_medals\n",
    "                i += 1\n",
    "            else:\n",
    "                i += 1\n",
    "        return gold_medals, silver_medals, bronze_medals\n",
    "\n",
    "    combined_df['gold_medals'], combined_df['silver_medals'], combined_df['bronze_medals'] = zip(*combined_df['athlete_medals'].apply(process_medals))\n",
    "    combined_df = combined_df.drop(columns='athlete_medals')\n",
    "\n",
    "# Ajouter une colonne pour le nombre total de médailles remportées par chaque athlète\n",
    "combined_df['total_medals'] = combined_df['gold_medals'] + combined_df['silver_medals'] + combined_df['bronze_medals']\n",
    "\n",
    "# Afficher un aperçu des données après traitement des médailles\n",
    "print(combined_df[['athlete_full_name', 'gold_medals', 'silver_medals', 'bronze_medals', 'total_medals']].head())\n",
    "\n",
    "# Afficher les valeurs uniques de chaque colonne d'intérêt dans combined_df\n",
    "columns_of_interest = ['discipline_title', 'event_title', 'game_slug', 'participant_type', 'country_name', \n",
    "                       'game_year', 'value_unit_category', 'value_type', 'gold_medals', 'silver_medals', \n",
    "                       'bronze_medals', 'games_participations', 'first_game', 'medal_type']\n",
    "\n",
    "for column in columns_of_interest:\n",
    "    unique_values = combined_df[column].unique()\n",
    "    print(f\"\\nValeurs uniques de la colonne '{column}':\")\n",
    "    print(unique_values)"
   ]
  },
  {
   "cell_type": "code",
   "execution_count": null,
   "id": "a365f1cb-2c77-4afc-a62f-2401612ee4e2",
   "metadata": {},
   "outputs": [],
   "source": [
    "missing_values_mask = combined_df['athlete_full_name'].isna()\n",
    "missing_values_df = combined_df[missing_values_mask]\n",
    "print(missing_values_df.head(10))\n"
   ]
  },
  {
   "cell_type": "code",
   "execution_count": null,
   "id": "2b334b89-24f4-4068-896d-231895a7457c",
   "metadata": {},
   "outputs": [],
   "source": [
    "# Sélectionner les colonnes à inclure dans le DataFrame fusionné\n",
    "columns_to_keep = ['game_slug', 'medal_type', 'country_name', 'value_type', 'game_year', 'value_unit_category']\n",
    "\n",
    "# Fusionner les lignes avec participant_type == 'GameTeam'\n",
    "grouped_df = combined_df[combined_df['participant_type'] == 'GameTeam'][columns_to_keep].groupby(['game_slug', 'medal_type']).first().reset_index()\n",
    "\n",
    "# Ajouter les colonnes de médailles au DataFrame fusionné\n",
    "grouped_df['gold_medals'] = grouped_df['medal_type'] == 'GOLD'\n",
    "grouped_df['silver_medals'] = grouped_df['medal_type'] == 'SILVER'\n",
    "grouped_df['bronze_medals'] = grouped_df['medal_type'] == 'BRONZE'\n",
    "grouped_df['total_medals'] = grouped_df[['gold_medals', 'silver_medals', 'bronze_medals']].sum(axis=1)\n",
    "\n",
    "# Afficher un aperçu des données fusionnées\n",
    "print(grouped_df)\n"
   ]
  },
  {
   "cell_type": "code",
   "execution_count": null,
   "id": "6e7720be-70db-48f6-9a73-ffa4f2a06e36",
   "metadata": {},
   "outputs": [],
   "source": [
    "# Remplacer les valeurs manquantes dans la colonne 'athlete_full_name' pour les lignes avec participant_type == 'GameTeam'\n",
    "combined_df.loc[combined_df['participant_type'] == 'GameTeam', 'athlete_full_name'] = combined_df['country_name'].apply(lambda x: 'Team ' + x)\n",
    "\n",
    "# Afficher un aperçu des données après traitement des médailles et des équipes\n",
    "print(combined_df[['athlete_full_name', 'gold_medals', 'silver_medals', 'bronze_medals', 'total_medals']].head())\n"
   ]
  },
  {
   "cell_type": "code",
   "execution_count": null,
   "id": "cf0f6223-2815-4445-a9c5-fe792c8a5bc8",
   "metadata": {},
   "outputs": [],
   "source": [
    "# Afficher les valeurs uniques de la colonne 'athlete_full_name' et leur nombre de lignes correspondantes\n",
    "athlete_counts = combined_df['athlete_full_name'].value_counts()\n",
    "print(athlete_counts)\n"
   ]
  },
  {
   "cell_type": "code",
   "execution_count": null,
   "id": "cf8a62ba-115b-4edb-97c3-c60545d5c574",
   "metadata": {},
   "outputs": [],
   "source": [
    "combined_df\n"
   ]
  },
  {
   "cell_type": "code",
   "execution_count": null,
   "id": "ae332981-1dd0-4304-89ed-2eb0e2c53dea",
   "metadata": {},
   "outputs": [],
   "source": [
    "# Enregistrer le DataFrame dans la base de données SQLite\n",
    "combined_df.to_sql('cleaned_olympic_results1', con=engine, if_exists='replace', index=False)"
   ]
  },
  {
   "cell_type": "code",
   "execution_count": null,
   "id": "e4742cd9-9048-45b7-b7bf-32b72180fdad",
   "metadata": {},
   "outputs": [],
   "source": [
    "# Afficher le nombre de lignes et de colonnes du DataFrame\n",
    "print(\"Nombre de lignes :\", len(combined_df))\n",
    "print(\"Nombre de colonnes :\", len(combined_df.columns))"
   ]
  },
  {
   "cell_type": "code",
   "execution_count": null,
   "id": "b765f44c-20f8-41df-8606-71f0974eb490",
   "metadata": {},
   "outputs": [],
   "source": [
    "# Séparer les données de 2020 des autres années\n",
    "data_2020 = combined_df[combined_df['game_year'] == 2020]\n",
    "data_other_years = combined_df[combined_df['game_year'] != 2020]\n",
    "\n",
    "# Afficher un aperçu des données de 2020\n",
    "print(\"Aperçu des données de 2020:\")\n",
    "print(data_2020.head())\n",
    "\n",
    "# Afficher un aperçu des données des autres années\n",
    "print(\"Aperçu des données des autres années:\")\n",
    "print(data_other_years.head())\n"
   ]
  },
  {
   "cell_type": "code",
   "execution_count": null,
   "id": "82172f9e-0e09-4a3e-886f-38501eb2ac40",
   "metadata": {},
   "outputs": [],
   "source": [
    "# Sélectionner les fonctionnalités pertinentes pour l'entraînement du modèle\n",
    "features = ['discipline_title', 'event_title', 'game_slug', 'participant_type', 'country_name', \n",
    "            'game_year', 'value_unit_category', 'value_type', 'gold_medals', 'silver_medals', 'bronze_medals', \n",
    "            'games_participations', 'first_game']\n",
    "\n",
    "X_train = data_other_years[features]\n",
    "y_train = data_other_years['medal_type']\n",
    "\n",
    "# Gérer les valeurs manquantes dans les fonctionnalités\n",
    "X_train['value_unit_category'].fillna('NaN', inplace=True)\n",
    "X_train['first_game'].fillna('Unknown', inplace=True)\n",
    "\n",
    "# Pipeline de prétraitement\n",
    "preprocessor = ColumnTransformer(\n",
    "    transformers=[\n",
    "        ('num', StandardScaler(), ['game_year', 'games_participations', 'gold_medals', 'silver_medals', 'bronze_medals']),\n",
    "        ('cat', OneHotEncoder(handle_unknown='ignore'), ['discipline_title', 'event_title', 'game_slug', \n",
    "                                                         'participant_type', 'country_name', 'value_unit_category', \n",
    "                                                         'value_type', 'first_game'])\n",
    "    ])\n",
    "\n",
    "# Pipeline de modèle\n",
    "model = Pipeline(steps=[\n",
    "    ('preprocessor', preprocessor),\n",
    "    ('classifier', RandomForestClassifier(n_estimators=100, random_state=42))\n",
    "])\n",
    "\n",
    "# Entraîner le modèle sur les données des années précédentes\n",
    "model.fit(X_train, y_train)\n"
   ]
  },
  {
   "cell_type": "code",
   "execution_count": null,
   "id": "a76a3644-c1d8-4b01-af24-144734b819b8",
   "metadata": {},
   "outputs": [],
   "source": [
    "# Préparer les données de 2020 pour la prédiction\n",
    "X_2020 = data_2020[features]\n",
    "\n",
    "# Gérer les valeurs manquantes dans les fonctionnalités\n",
    "X_2020['value_unit_category'].fillna('NaN', inplace=True)\n",
    "X_2020['first_game'].fillna('Unknown', inplace=True)\n",
    "\n",
    "# Faire des prédictions sur les données de 2020\n",
    "y_pred_2020 = model.predict(X_2020)\n",
    "\n",
    "# Ajouter les prédictions au DataFrame de 2020\n",
    "data_2020['predicted_medal_type'] = y_pred_2020\n",
    "\n",
    "# Afficher un aperçu des prédictions de 2020\n",
    "print(\"Aperçu des prédictions pour 2020:\")\n",
    "print(data_2020[['athlete_full_name', 'predicted_medal_type']].head())\n"
   ]
  },
  {
   "cell_type": "code",
   "execution_count": null,
   "id": "48eb622b-38a9-467f-aab9-238e1a81f852",
   "metadata": {},
   "outputs": [],
   "source": [
    "# Comparer les prédictions aux résultats réels\n",
    "comparison = data_2020[['athlete_full_name', 'medal_type', 'predicted_medal_type']]\n",
    "\n",
    "# Calculer la précision des prédictions\n",
    "accuracy = (comparison['medal_type'] == comparison['predicted_medal_type']).mean()\n",
    "print(f\"Précision des prédictions pour 2020: {accuracy:.2f}\")\n",
    "\n",
    "# Afficher les prédictions incorrectes\n",
    "incorrect_predictions = comparison[comparison['medal_type'] != comparison['predicted_medal_type']]\n",
    "print(\"Prédictions incorrectes:\")\n",
    "print(incorrect_predictions.head())\n"
   ]
  },
  {
   "cell_type": "code",
   "execution_count": null,
   "id": "071dccfb-477e-4f8b-b54b-8800853b2e18",
   "metadata": {},
   "outputs": [],
   "source": [
    "# Analyser les prédictions incorrectes\n",
    "incorrect_predictions = comparison[comparison['medal_type'] != comparison['predicted_medal_type']]\n",
    "\n",
    "# Afficher un aperçu des prédictions incorrectes\n",
    "print(\"Prédictions incorrectes:\")\n",
    "print(incorrect_predictions.head())\n",
    "\n",
    "# Examiner les caractéristiques des prédictions incorrectes\n",
    "incorrect_details = data_2020[data_2020['athlete_full_name'].isin(incorrect_predictions['athlete_full_name'])]\n",
    "print(\"Détails des prédictions incorrectes:\")\n",
    "print(incorrect_details.head(10))\n"
   ]
  },
  {
   "cell_type": "code",
   "execution_count": null,
   "id": "2b43a8ea-6b69-48bf-94cc-6b3413fdf71a",
   "metadata": {},
   "outputs": [],
   "source": [
    "import seaborn as sns\n",
    "import matplotlib.pyplot as plt\n",
    "\n",
    "# Visualiser la répartition des prédictions correctes et incorrectes\n",
    "plt.figure(figsize=(10, 6))\n",
    "sns.countplot(x='predicted_medal_type', hue='medal_type', data=data_2020)\n",
    "plt.title('Comparaison des Prédictions et des Résultats Réels pour 2020')\n",
    "plt.xlabel('Type de Médaille Prédite')\n",
    "plt.ylabel('Nombre')\n",
    "plt.legend(title='Type de Médaille Réel')\n",
    "plt.show()\n"
   ]
  },
  {
   "cell_type": "code",
   "execution_count": null,
   "id": "e52c509e-5c19-4850-8f21-1f14ad781293",
   "metadata": {},
   "outputs": [],
   "source": [
    "import joblib\n",
    "\n",
    "# Sauvegarder le modèle dans un fichier\n",
    "model_filename = 'olympic_model.pkl'\n",
    "joblib.dump(model, model_filename)\n",
    "print(f\"Modèle sauvegardé dans le fichier '{model_filename}'\")\n"
   ]
  },
  {
   "cell_type": "code",
   "execution_count": null,
   "id": "ff4a17a9-e7a7-40e7-b7dc-1066b4af9ac8",
   "metadata": {},
   "outputs": [],
   "source": []
  },
  {
   "cell_type": "code",
   "execution_count": null,
   "id": "1a09110b-8333-42a4-9ace-839cb160e369",
   "metadata": {},
   "outputs": [],
   "source": []
  },
  {
   "cell_type": "code",
   "execution_count": null,
   "id": "6581d20f-79e0-4a04-9429-7782ba15477d",
   "metadata": {},
   "outputs": [],
   "source": []
  },
  {
   "cell_type": "code",
   "execution_count": null,
   "id": "c2a2cd4d-da0f-490c-b198-b1de118f43f2",
   "metadata": {},
   "outputs": [],
   "source": []
  },
  {
   "cell_type": "code",
   "execution_count": null,
   "id": "761a24d6-8047-44f2-b8f8-e900c1f45976",
   "metadata": {},
   "outputs": [],
   "source": []
  },
  {
   "cell_type": "code",
   "execution_count": null,
   "id": "510b28d1-50c5-489c-a2c2-5dd9af659355",
   "metadata": {},
   "outputs": [],
   "source": []
  },
  {
   "cell_type": "code",
   "execution_count": null,
   "id": "6690b052-6f90-40dc-aef2-6b2c63b6c263",
   "metadata": {},
   "outputs": [],
   "source": []
  },
  {
   "cell_type": "code",
   "execution_count": null,
   "id": "0d25380f-a5c4-473c-8f18-f94145ab1433",
   "metadata": {},
   "outputs": [],
   "source": []
  },
  {
   "cell_type": "code",
   "execution_count": null,
   "id": "c2c35b91-7fa5-49d2-80c1-9ed429f5ea64",
   "metadata": {},
   "outputs": [],
   "source": [
    "print(\"Valeurs uniques de 'medal_type' après remplacement des None:\")\n",
    "print(results_df['medal_type'].unique())"
   ]
  },
  {
   "cell_type": "code",
   "execution_count": null,
   "id": "7364a8c9-174f-453e-8d88-716beeef6bd2",
   "metadata": {},
   "outputs": [],
   "source": [
    "# Sélectionner la cible\n",
    "y = results_df['medal_type']\n",
    "\n",
    "# Gérer les valeurs manquantes\n",
    "X['value_unit_category'].fillna('NaN', inplace=True)\n",
    "\n",
    "# Diviser les données en ensembles d'entraînement et de test\n",
    "X_train, X_test, y_train, y_test = train_test_split(X, y, test_size=0.2, random_state=42)\n",
    "\n",
    "# Pipeline de prétraitement\n",
    "preprocessor = ColumnTransformer(\n",
    "    transformers=[\n",
    "        ('num', StandardScaler(), ['game_year']),\n",
    "        ('cat', OneHotEncoder(handle_unknown='ignore'), ['discipline_title', 'event_title', 'game_slug', 'participant_type', 'country_name', 'value_unit_category', 'value_type'])\n",
    "    ])\n",
    "\n",
    "# Pipeline de modèle\n",
    "model = Pipeline(steps=[\n",
    "    ('preprocessor', preprocessor),\n",
    "    ('classifier', RandomForestClassifier(n_estimators=100, random_state=42))\n",
    "])\n",
    "\n",
    "# Entraîner le modèle\n",
    "model.fit(X_train, y_train)\n",
    "\n",
    "# Prédire sur les données de test\n",
    "y_pred = model.predict(X_test)\n",
    "\n",
    "# Évaluer le modèle\n",
    "print(\"\\nRapport de classification:\")\n",
    "print(classification_report(y_test, y_pred))\n",
    "\n",
    "# Exemple de prédiction\n",
    "example = X_test.iloc[0:1]  # Convertir en DataFrame avec une seule ligne\n",
    "print(\"\\nExemple de prédiction pour l'entrée suivante:\")\n",
    "print(example)\n",
    "print(\"Prédiction du modèle:\", model.predict(example))"
   ]
  },
  {
   "cell_type": "markdown",
   "id": "c2903948-3987-4923-a692-12d798931cad",
   "metadata": {},
   "source": [
    "le modèle est une classification du type de médaille que pourrait remporter un athlète (ou une équipe) dans une certaine épreuve des Jeux Olympiques. Le modèle prédit parmi les catégories suivantes : 'GOLD', 'SILVER', 'BRONZE', ou 'NO_MEDAL'."
   ]
  },
  {
   "cell_type": "code",
   "execution_count": null,
   "id": "0983a1dd-eb1f-4a45-94b5-4e0919e5b75d",
   "metadata": {},
   "outputs": [],
   "source": [
    "import joblib\n",
    "\n",
    "joblib.dump(model, 'model.pkl')"
   ]
  },
  {
   "cell_type": "code",
   "execution_count": null,
   "id": "1fae3874-7f5d-4e71-b323-ad9eaa24c5e3",
   "metadata": {},
   "outputs": [],
   "source": [
    "# Charger les colonnes spécifiées de la table olympic_athletes\n",
    "athletes_df = pd.read_sql(\"SELECT athlete_url, athlete_full_name, games_participations, first_game, athlete_medals FROM olympic_athletes;\", con=engine)\n",
    "\n",
    "# Afficher un aperçu des données chargées\n",
    "print(athletes_df.head())"
   ]
  },
  {
   "cell_type": "code",
   "execution_count": null,
   "id": "59a808b1-7274-4a7e-a029-25df90c4d675",
   "metadata": {},
   "outputs": [],
   "source": [
    "# Remplacer les valeurs None dans 'athlete_medals' par 'NO_MEDAL'\n",
    "athletes_df['athlete_medals'].fillna('NO_MEDAL', inplace=True)\n",
    "\n",
    "# Afficher un aperçu des données après remplacement\n",
    "print(athletes_df.head())"
   ]
  },
  {
   "cell_type": "code",
   "execution_count": null,
   "id": "546344ab-f0af-4a61-be07-db76a3d8ba4d",
   "metadata": {},
   "outputs": [],
   "source": [
    "# Joindre les datasets results_df et athletes_df sur 'athlete_full_name' ou une autre clé appropriée\n",
    "combined_df = pd.merge(results_df, athletes_df, how='left', left_on='athlete_full_name', right_on='athlete_full_name')\n",
    "\n",
    "# Sélectionner les fonctionnalités pertinentes\n",
    "features = ['discipline_title', 'event_title', 'game_slug', 'participant_type', 'country_name', 'game_year', 'value_unit_category', 'value_type', 'athlete_medals']\n",
    "X = combined_df[features]\n",
    "\n",
    "# Sélectionner la cible\n",
    "y = combined_df['medal_type']\n",
    "\n",
    "# Gérer les valeurs manquantes\n",
    "X['value_unit_category'].fillna('NaN', inplace=True)\n",
    "\n",
    "# Diviser les données en ensembles d'entraînement et de test\n",
    "X_train, X_test, y_train, y_test = train_test_split(X, y, test_size=0.2, random_state=42)\n",
    "\n",
    "# Pipeline de prétraitement\n",
    "preprocessor = ColumnTransformer(\n",
    "    transformers=[\n",
    "        ('num', StandardScaler(), ['game_year']),\n",
    "        ('cat', OneHotEncoder(handle_unknown='ignore'), ['discipline_title', 'event_title', 'game_slug', 'participant_type', 'country_name', 'value_unit_category', 'value_type', 'athlete_medals'])\n",
    "    ])\n",
    "\n",
    "# Pipeline de modèle\n",
    "model = Pipeline(steps=[\n",
    "    ('preprocessor', preprocessor),\n",
    "    ('classifier', RandomForestClassifier(n_estimators=100, random_state=42))\n",
    "])\n",
    "\n",
    "# Entraîner le modèle\n",
    "model.fit(X_train, y_train)\n",
    "\n",
    "# Prédire sur les données de test\n",
    "y_pred = model.predict(X_test)\n",
    "\n",
    "# Évaluer le modèle\n",
    "print(\"\\nRapport de classification:\")\n",
    "print(classification_report(y_test, y_pred))\n",
    "\n",
    "# Exemple de prédiction\n",
    "example = X_test.iloc[0:1]  # Convertir en DataFrame avec une seule ligne\n",
    "print(\"\\nExemple de prédiction pour l'entrée suivante:\")\n",
    "print(example)\n",
    "print(\"Prédiction du modèle:\", model.predict(example))"
   ]
  },
  {
   "cell_type": "code",
   "execution_count": null,
   "id": "fdc66a23-a1e1-4cb5-80ec-296fa6afd94b",
   "metadata": {},
   "outputs": [],
   "source": [
    "import pickle\n",
    "\n",
    "with open('model.pkl', 'wb') as f:\n",
    "    pickle.dump(model, f)"
   ]
  },
  {
   "cell_type": "code",
   "execution_count": null,
   "id": "2320da65-56b8-4fa9-91e0-9259902f4ee7",
   "metadata": {},
   "outputs": [],
   "source": [
    "# Charger les données existantes pour vérifier\n",
    "existing_data = pd.read_sql(\"SELECT * FROM cleaned_olympic_data;\", con=engine)\n",
    "print(\"Aperçu des données existantes dans la table cleaned_olympic_data:\")\n",
    "print(existing_data.head())\n",
    "\n",
    "print(\"Colonnes de athletes_df:\", athletes_df.columns)\n",
    "print(\"Colonnes de cleaned_olympic_data:\", existing_data.columns)"
   ]
  },
  {
   "cell_type": "code",
   "execution_count": null,
   "id": "9cc0f8c5-bfc0-4711-80a5-0ed39500cd9f",
   "metadata": {},
   "outputs": [],
   "source": [
    "# Afficher un aperçu des données après remplacement\n",
    "print(\"Aperçu des données de athletes_df après remplacement des None:\")\n",
    "print(athletes_df.head())\n"
   ]
  },
  {
   "cell_type": "code",
   "execution_count": null,
   "id": "3ce9f4cc-cd58-4ed9-85c9-0a6137e58681",
   "metadata": {},
   "outputs": [],
   "source": [
    "# Vérifier les colonnes pour s'assurer de la compatibilité\n",
    "print(\"Colonnes de athletes_df:\", athletes_df.columns)\n",
    "print(\"Colonnes de cleaned_olympic_data:\", existing_data.columns)"
   ]
  },
  {
   "cell_type": "code",
   "execution_count": null,
   "id": "3799f9b6-a318-407a-993e-6a8bcf5056f7",
   "metadata": {},
   "outputs": [],
   "source": [
    "# Charger les colonnes spécifiées de la table olympic_athletes\n",
    "athletes_df = pd.read_sql(\"SELECT athlete_url, athlete_full_name, games_participations, first_game, athlete_medals FROM olympic_athletes;\", con=engine)\n",
    "athletes_df"
   ]
  },
  {
   "cell_type": "code",
   "execution_count": null,
   "id": "bb8a4f20-7e59-4f09-8f7a-ca71dcc48631",
   "metadata": {},
   "outputs": [],
   "source": [
    "# Remplacer les valeurs None dans 'athlete_medals' par 'NO_MEDAL'\n",
    "athletes_df['athlete_medals'].fillna('NO_MEDAL', inplace=True)\n",
    "athletes_df"
   ]
  },
  {
   "cell_type": "code",
   "execution_count": null,
   "id": "fac6e514-bb91-4326-bd00-b707655713ee",
   "metadata": {},
   "outputs": [],
   "source": [
    "unique_medal_values = athletes_df['athlete_medals'].unique()\n",
    "print(\"Valeurs uniques dans la colonne 'athlete_medals':\")\n",
    "print(unique_medal_values)"
   ]
  },
  {
   "cell_type": "code",
   "execution_count": null,
   "id": "4491a47e-bebc-4b8f-8d62-698fb6e008a5",
   "metadata": {},
   "outputs": [],
   "source": [
    "import re\n",
    "\n",
    "# Fonction pour extraire les médailles\n",
    "def extract_medals(medal_str):\n",
    "    medals = {'G': 0, 'S': 0, 'B': 0}\n",
    "    if medal_str != 'NO_MEDAL':\n",
    "        matches = re.findall(r'(\\d+)([GSB])', medal_str)\n",
    "        for count, medal_type in matches:\n",
    "            medals[medal_type] += int(count)\n",
    "    return medals\n",
    "\n",
    "# Appliquer la fonction d'extraction pour créer des colonnes pour chaque type de médaille\n",
    "athletes_df['gold_medals'] = athletes_df['athlete_medals'].apply(lambda x: extract_medals(x)['G'])\n",
    "athletes_df['silver_medals'] = athletes_df['athlete_medals'].apply(lambda x: extract_medals(x)['S'])\n",
    "athletes_df['bronze_medals'] = athletes_df['athlete_medals'].apply(lambda x: extract_medals(x)['B'])\n",
    "\n",
    "# Afficher un aperçu des données après transformation\n",
    "print(\"Aperçu des données de athletes_df après transformation des médailles:\")\n",
    "print(athletes_df.head())"
   ]
  },
  {
   "cell_type": "code",
   "execution_count": null,
   "id": "955e5cfa-1ee7-4eca-96df-bda6d64d222c",
   "metadata": {},
   "outputs": [],
   "source": [
    "\n",
    "# Charger les données existantes de results_df\n",
    "results_df = pd.read_sql(\"SELECT * FROM olympic_results;\", con=engine)\n",
    "\n",
    "# Joindre les datasets results_df et athletes_df sur les clés appropriées\n",
    "combined_df = pd.merge(results_df, athletes_df[['athlete_url', 'athlete_full_name', 'games_participations', 'first_game', 'gold_medals', 'silver_medals', 'bronze_medals']],\n",
    "                       left_on='athlete_url', right_on='athlete_url', how='left')\n",
    "\n",
    "# Remplacer les valeurs non numériques par des zéros dans 'games_participations'\n",
    "combined_df['games_participations'] = combined_df['games_participations'].fillna(0).astype(int)\n",
    "\n",
    "# Calculer les nouvelles statistiques par pays et année\n",
    "updated_data = combined_df.groupby(['country_name', 'game_year']).agg(\n",
    "    BRONZE=('medal_type', lambda x: (x == 'BRONZE').sum()),\n",
    "    GOLD=('medal_type', lambda x: (x == 'GOLD').sum()),\n",
    "    SILVER=('medal_type', lambda x: (x == 'SILVER').sum()),\n",
    "    total_medals=('medal_type', lambda x: x.isin(['BRONZE', 'GOLD', 'SILVER']).sum()),\n",
    "    total_disciplines=('discipline_title', 'nunique'),\n",
    "    total_events=('event_title', 'nunique'),\n",
    "    athlete_gold_medals=('gold_medals', 'sum'),\n",
    "    athlete_silver_medals=('silver_medals', 'sum'),\n",
    "    athlete_bronze_medals=('bronze_medals', 'sum')\n",
    ").reset_index()\n"
   ]
  },
  {
   "cell_type": "code",
   "execution_count": null,
   "id": "95502aef-f4b1-496b-b9d9-ea1a41975450",
   "metadata": {},
   "outputs": [],
   "source": [
    "# Charger les données existantes de results_df\n",
    "results_df = pd.read_sql(\"SELECT * FROM olympic_results;\", con=engine)\n",
    "\n",
    "# Extraire l'année des jeux à partir de la colonne 'slug_game'\n",
    "results_df['game_year'] = results_df['slug_game'].apply(lambda x: int(x.split('-')[-1]))\n",
    "\n",
    "# Vérifier l'ajout de la colonne 'game_year'\n",
    "print(\"Colonnes disponibles dans results_df après extraction de l'année:\")\n",
    "print(results_df.columns)\n",
    "\n",
    "print(\"\\nPremières lignes de results_df après extraction de l'année:\")\n",
    "print(results_df.head())"
   ]
  },
  {
   "cell_type": "code",
   "execution_count": null,
   "id": "0066238f-a096-4d57-a132-d7b76ef30808",
   "metadata": {},
   "outputs": [],
   "source": [
    "# Charger les données existantes de results_df avec la colonne 'game_year' ajoutée\n",
    "results_df = pd.read_sql(\"SELECT * FROM olympic_results;\", con=engine)\n",
    "results_df['game_year'] = results_df['slug_game'].apply(lambda x: int(x.split('-')[-1]))\n",
    "\n",
    "# Joindre les datasets results_df et athletes_df sur les clés appropriées\n",
    "combined_df = pd.merge(results_df, athletes_df[['athlete_url', 'athlete_full_name', 'games_participations', 'first_game', 'gold_medals', 'silver_medals', 'bronze_medals']],\n",
    "                       left_on='athlete_url', right_on='athlete_url', how='left')\n",
    "\n",
    "# Remplacer les valeurs non numériques par des zéros dans 'games_participations'\n",
    "combined_df['games_participations'] = combined_df['games_participations'].fillna(0).astype(int)\n",
    "\n",
    "# Calculer les nouvelles statistiques par pays et année\n",
    "updated_data = combined_df.groupby(['country_name', 'game_year']).agg(\n",
    "    BRONZE=('medal_type', lambda x: (x == 'BRONZE').sum()),\n",
    "    GOLD=('medal_type', lambda x: (x == 'GOLD').sum()),\n",
    "    SILVER=('medal_type', lambda x: (x == 'SILVER').sum()),\n",
    "    total_medals=('medal_type', lambda x: x.isin(['BRONZE', 'GOLD', 'SILVER']).sum()),\n",
    "    total_disciplines=('discipline_title', 'nunique'),\n",
    "    total_events=('event_title', 'nunique'),\n",
    "    athlete_gold_medals=('gold_medals', 'sum'),\n",
    "    athlete_silver_medals=('silver_medals', 'sum'),\n",
    "    athlete_bronze_medals=('bronze_medals', 'sum')\n",
    ").reset_index()\n",
    "\n",
    "# Sauvegarder les nouvelles données dans la base de données\n",
    "updated_data.to_sql('cleaned_olympic_data', con=engine, if_exists='replace', index=False)\n",
    "print(\"Les données combinées ont été sauvegardées dans la base de données.\")\n",
    "\n",
    "# Vérifier les données après ajout\n",
    "updated_data_check = pd.read_sql(\"SELECT * FROM cleaned_olympic_data;\", con=engine)\n",
    "print(\"Aperçu des données mises à jour dans la table cleaned_olympic_data:\")\n",
    "print(updated_data_check.tail())\n"
   ]
  },
  {
   "cell_type": "code",
   "execution_count": null,
   "id": "1225926f-663d-49bc-9bf8-b2683deaac1f",
   "metadata": {},
   "outputs": [],
   "source": [
    "unique_countries = results_df['country_name'].unique()\n",
    "print(\"Valeurs uniques dans la colonne 'country_name':\")\n",
    "print(unique_countries)"
   ]
  },
  {
   "cell_type": "code",
   "execution_count": null,
   "id": "d4b18788-1cb6-4589-a590-5ba1a19c2a36",
   "metadata": {},
   "outputs": [],
   "source": [
    "# Nettoyage des anomalies\n",
    "def clean_country_name(country_name):\n",
    "    if pd.isna(country_name):\n",
    "        return None\n",
    "    # Supprimer les URLs\n",
    "    country_name = re.sub(r'https?://\\S+', '', country_name)\n",
    "    # Supprimer les espaces blancs en début et fin\n",
    "    country_name = country_name.strip()\n",
    "    # Remplacer par les noms de pays corrects\n",
    "    return country_renaming.get(country_name, country_name)\n",
    "\n",
    "results_df['country_name'] = results_df['country_name'].apply(clean_country_name)\n",
    "results_df['country_name'] = results_df['country_name'].replace({\n",
    "    'None)]\"': None, '10': None, '25': None, '17': None, '14': None, '5': None, '3': None, '11': None, '1': None, '16': None, '': None, \"Jr.'\": None\n",
    "})\n",
    "\n",
    "# Vérifier les valeurs uniques après nettoyage\n",
    "cleaned_unique_countries = results_df['country_name'].unique()\n",
    "print(\"Valeurs uniques dans la colonne 'country_name' après nettoyage:\")\n",
    "print(cleaned_unique_countries)\n",
    "\n",
    "# Sauvegarder les données nettoyées dans la base de données\n",
    "results_df.to_sql('cleaned_olympic_results', con=engine, if_exists='replace', index=False)\n",
    "print(\"Les données nettoyées ont été sauvegardées dans la base de données.\")\n",
    "\n",
    "# Vérifier les données après sauvegarde\n",
    "updated_data_check = pd.read_sql(\"SELECT * FROM cleaned_olympic_results;\", con=engine)\n",
    "print(\"Aperçu des données mises à jour dans la table cleaned_olympic_results:\")\n",
    "print(updated_data_check.head())"
   ]
  },
  {
   "cell_type": "code",
   "execution_count": null,
   "id": "35f93728-3851-4abb-a764-9b3077bc9dc5",
   "metadata": {},
   "outputs": [],
   "source": [
    "print(updated_data_check.head())"
   ]
  },
  {
   "cell_type": "code",
   "execution_count": null,
   "id": "f1a635c1-0aed-46ce-be98-232bbca65d38",
   "metadata": {},
   "outputs": [],
   "source": []
  },
  {
   "cell_type": "code",
   "execution_count": null,
   "id": "a311b607-4253-4d55-b050-8023d56d1269",
   "metadata": {},
   "outputs": [],
   "source": []
  },
  {
   "cell_type": "code",
   "execution_count": null,
   "id": "34b77dec-a570-4f47-931e-8ea1169957a4",
   "metadata": {},
   "outputs": [],
   "source": []
  },
  {
   "cell_type": "code",
   "execution_count": null,
   "id": "f398f320-dd37-4316-a836-d07b9a4aaadc",
   "metadata": {},
   "outputs": [],
   "source": []
  },
  {
   "cell_type": "code",
   "execution_count": null,
   "id": "667dbc6d-3dec-4b6a-a79b-680c82c43dd6",
   "metadata": {},
   "outputs": [],
   "source": []
  }
 ],
 "metadata": {
  "kernelspec": {
   "display_name": "Python 3 (ipykernel)",
   "language": "python",
   "name": "python3"
  },
  "language_info": {
   "codemirror_mode": {
    "name": "ipython",
    "version": 3
   },
   "file_extension": ".py",
   "mimetype": "text/x-python",
   "name": "python",
   "nbconvert_exporter": "python",
   "pygments_lexer": "ipython3",
   "version": "3.10.11"
  }
 },
 "nbformat": 4,
 "nbformat_minor": 5
}
